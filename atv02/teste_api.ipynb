{
 "cells": [
  {
   "cell_type": "code",
   "execution_count": 4,
   "metadata": {},
   "outputs": [
    {
     "name": "stdout",
     "output_type": "stream",
     "text": [
      "O Cruzeiro Esporte Clube é o maior time de Minas Gerais. O clube foi fundado em 21 de janeiro de 1921 e conta com uma legião apaixonada que segue suas conquistas dentro e fora do Brasil. É um dos maiores vencedores da história do futebol brasileiro, tendo conquistado diversos títulos\n"
     ]
    }
   ],
   "source": [
    "import dotenv\n",
    "import os\n",
    "import openai # Importando a lib da openAI\n",
    "\n",
    "dotenv.load_dotenv()\n",
    "openai.api_key = os.getenv(\"OPENAI_API_KEY\") # Informando nossa chave de acesso\n",
    "\n",
    "prompt = \"Qual maior time de Minas Gerais?\"\n",
    "\n",
    "response = openai.Completion.create(\n",
    "    model=\"text-davinci-003\", # o mecanimos da i.a\n",
    "    prompt= prompt,\n",
    "    temperature=0.7, # entre 0 e 2. Valores mais altos como 1,8 tornarão a saída mais aleatória, enquanto valores mais baixos como 0,2 a tornarão mais focada e determinística.\n",
    "    max_tokens= 100, # Quantidade de retorno (Tokens, padrao 16)\n",
    "    n=1, # Quantos respostas vão ser geradas\n",
    "    stop=None # String ou array(4), com palavras de parada caso ele retorne alguma\n",
    ")\n",
    "\n",
    "# frequency_penalty = \"Caso esteja dando muita resposta repetida, passar com 2\"\n",
    "\n",
    "resposta = response['choices'][0]['text'].strip()\n",
    "\n",
    "print(resposta)"
   ]
  }
 ],
 "metadata": {
  "kernelspec": {
   "display_name": "my_env",
   "language": "python",
   "name": "python3"
  },
  "language_info": {
   "codemirror_mode": {
    "name": "ipython",
    "version": 3
   },
   "file_extension": ".py",
   "mimetype": "text/x-python",
   "name": "python",
   "nbconvert_exporter": "python",
   "pygments_lexer": "ipython3",
   "version": "3.11.0"
  },
  "orig_nbformat": 4
 },
 "nbformat": 4,
 "nbformat_minor": 2
}
