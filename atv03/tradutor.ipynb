{
 "cells": [
  {
   "cell_type": "code",
   "execution_count": 1,
   "metadata": {},
   "outputs": [
    {
     "name": "stdout",
     "output_type": "stream",
     "text": [
      "Real Madrid again defined an era in world football, winning four European Cups and four Club World Cup titles. In 2014, they lifted La Décima, before winning the Club World Cup that same year.\n"
     ]
    }
   ],
   "source": [
    "import os, dotenv\n",
    "import openai\n",
    "\n",
    "dotenv.load_dotenv()\n",
    "openai.api_key = os.getenv(\"OPENAI_API_KEY\")\n",
    "\n",
    "def read_file(file_path):\n",
    "    with open(file_path, 'r', encoding='utf-8') as f:\n",
    "        return f.read()\n",
    "    \n",
    "def write_file(text, file_path):\n",
    "    with open(file_path, 'w', encoding='utf-8') as f:\n",
    "        f.write(text)\n",
    "        \n",
    "def translate(text: str, source_lang: str, target_lang: str) -> str:\n",
    "    prompt = f\"\"\"\n",
    "    Traduza esse texto em {source_lang} para {target_lang}: {text}\n",
    "    \"\"\"\n",
    "    response = openai.Completion.create(\n",
    "        model=\"text-curie-001\", # Melhor para traduzir texto\n",
    "        prompt= prompt,\n",
    "        temperature=0.7,\n",
    "        max_tokens= 1900,\n",
    "        n=1, \n",
    "        stop=None \n",
    "    )\n",
    "    return response['choices'][0]['text'].strip()\n",
    "\n",
    "if __name__ == '__main__':\n",
    "    idioma_original = 'Inglês'\n",
    "    caminho_arquivo_original  = r'.\\arquivos\\texto_original.txt'\n",
    "\n",
    "    idioma_novo = 'Português'\n",
    "    caminho_arquivo_novo = r'.\\arquivos\\texto_traduzido.txt'\n",
    "\n",
    "    text = read_file(caminho_arquivo_original)\n",
    "    \n",
    "    traducao = translate(text, source_lang=idioma_original, target_lang=idioma_novo)\n",
    "\n",
    "    write_file(traducao, file_path=caminho_arquivo_novo)\n",
    "\n",
    "    print(traducao)"
   ]
  }
 ],
 "metadata": {
  "kernelspec": {
   "display_name": "my_env",
   "language": "python",
   "name": "python3"
  },
  "language_info": {
   "codemirror_mode": {
    "name": "ipython",
    "version": 3
   },
   "file_extension": ".py",
   "mimetype": "text/x-python",
   "name": "python",
   "nbconvert_exporter": "python",
   "pygments_lexer": "ipython3",
   "version": "3.11.0"
  },
  "orig_nbformat": 4
 },
 "nbformat": 4,
 "nbformat_minor": 2
}
