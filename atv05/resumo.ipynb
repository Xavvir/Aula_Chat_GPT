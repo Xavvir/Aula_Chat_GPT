{
 "cells": [
  {
   "cell_type": "code",
   "execution_count": 1,
   "metadata": {},
   "outputs": [],
   "source": [
    "import os, dotenv\n",
    "import openai\n",
    "\n",
    "dotenv.load_dotenv()\n",
    "openai.api_key = os.getenv(\"OPENAI_API_KEY\")\n",
    "\n",
    "def read_file(file_path: str) -> str:\n",
    "    with open(file_path, 'r', encoding='utf-8') as file:\n",
    "        return file.read()\n",
    "\n",
    "def write_file(text, file_path):\n",
    "    with open(file_path, 'w', encoding='utf-8') as f:\n",
    "        f.write(text)\n",
    "        \n",
    "\n",
    "def resumir_texto(text: str) -> str:\n",
    "    prompt = f\"Resuma o seguinte texto: {text}\"\n",
    "    response = openai.Completion.create(\n",
    "        model=\"text-davinci-003\",\n",
    "        prompt= prompt,\n",
    "        temperature=0.7,\n",
    "        max_tokens= 2048,\n",
    "        n=1, \n",
    "        stop=None \n",
    "    )\n",
    "    return response['choices'][0]['text'].strip()\n",
    "\n"
   ]
  },
  {
   "cell_type": "code",
   "execution_count": 3,
   "metadata": {},
   "outputs": [
    {
     "name": "stdout",
     "output_type": "stream",
     "text": [
      "Um pipeline de dados é uma sequência de etapas que processam dados, começando com a ingestão de dados e terminando com um destino para a saída. Os pipelines de dados consistem em três elementos principais: uma fonte, etapas de processamento e um destino. Esses pipelines permitem o fluxo de dados de um aplicativo para um Data Warehouse, de um Data Lake para um banco de dados analítico ou para um sistema de processamento de pagamentos. Em alguns casos, etapas independentes podem ser executadas em paralelo.\n"
     ]
    }
   ],
   "source": [
    "if __name__ == '__main__':\n",
    "    file = r'.\\arquivos\\texto_original.txt'\n",
    "    texto = read_file(file)\n",
    "    \n",
    "    texto_resumido = resumir_texto(texto)\n",
    "    \n",
    "    write_file(texto_resumido, '.\\arquivos\\resumo.txt')\n",
    "\n",
    "    \n",
    "    print(texto_resumido)"
   ]
  }
 ],
 "metadata": {
  "kernelspec": {
   "display_name": "my_env",
   "language": "python",
   "name": "python3"
  },
  "language_info": {
   "codemirror_mode": {
    "name": "ipython",
    "version": 3
   },
   "file_extension": ".py",
   "mimetype": "text/x-python",
   "name": "python",
   "nbconvert_exporter": "python",
   "pygments_lexer": "ipython3",
   "version": "3.11.0"
  },
  "orig_nbformat": 4
 },
 "nbformat": 4,
 "nbformat_minor": 2
}
