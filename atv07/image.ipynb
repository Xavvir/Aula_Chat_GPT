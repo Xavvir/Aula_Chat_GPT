{
 "cells": [
  {
   "cell_type": "code",
   "execution_count": 2,
   "metadata": {},
   "outputs": [],
   "source": [
    "import os\n",
    "import openai\n",
    "import requests\n",
    "\n",
    "def save_image_from_url(image_url, save_path):\n",
    "    response = requests.get(image_url)\n",
    "    response.raise_for_status()  # Verifica se houve algum erro ao fazer a solicitação\n",
    "\n",
    "    with open(save_path, \"wb\") as f:\n",
    "        f.write(response.content)\n",
    "\n",
    "openai.api_key = os.getenv(\"OPENAI_API_KEY\")\n",
    "\n",
    "prompt = \"Leão com espada de cavaleiro\"\n",
    "\n",
    "response = openai.Image.create(\n",
    "  prompt=prompt,\n",
    "  n=1, # Quantidade de imagens\n",
    "  size=\"1024x1024\" # ['256x256', '512x512', '1024x1024']\n",
    ")\n",
    "\n",
    "url_image = response.data[0].url\n",
    "\n",
    "save_image_from_url(url_image, 'imagem.png')"
   ]
  }
 ],
 "metadata": {
  "kernelspec": {
   "display_name": "my_env",
   "language": "python",
   "name": "python3"
  },
  "language_info": {
   "codemirror_mode": {
    "name": "ipython",
    "version": 3
   },
   "file_extension": ".py",
   "mimetype": "text/x-python",
   "name": "python",
   "nbconvert_exporter": "python",
   "pygments_lexer": "ipython3",
   "version": "3.11.0"
  },
  "orig_nbformat": 4
 },
 "nbformat": 4,
 "nbformat_minor": 2
}
